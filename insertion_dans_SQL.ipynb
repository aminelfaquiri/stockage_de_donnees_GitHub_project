{
 "cells": [
  {
   "cell_type": "code",
   "execution_count": null,
   "metadata": {},
   "outputs": [],
   "source": [
    "import pandas as pd\n",
    "import pyodbc "
   ]
  },
  {
   "cell_type": "code",
   "execution_count": null,
   "metadata": {},
   "outputs": [],
   "source": [
    "df = pd.read_csv('Repo_in2023.csv')"
   ]
  },
  {
   "cell_type": "code",
   "execution_count": null,
   "metadata": {},
   "outputs": [],
   "source": [
    "df.columns"
   ]
  },
  {
   "cell_type": "code",
   "execution_count": null,
   "metadata": {},
   "outputs": [],
   "source": [
    "df['created_at'] = pd.to_datetime(df['created_at'])\n",
    "# Extract the date part from the datetime and convert back to string format :\n",
    "df['created_at'] = df['created_at'].dt.strftime('%Y-%m-%d')"
   ]
  },
  {
   "cell_type": "code",
   "execution_count": null,
   "metadata": {},
   "outputs": [],
   "source": [
    "df['contributors']  = df['contributors'].apply(eval)\n",
    "df['contributions_count']  = df['contributions_count'].apply(eval)"
   ]
  },
  {
   "cell_type": "markdown",
   "metadata": {},
   "source": [
    "#### Create Conection avec la base de donnee :"
   ]
  },
  {
   "cell_type": "code",
   "execution_count": null,
   "metadata": {},
   "outputs": [],
   "source": [
    "# Créer un connexion dans le database :\n",
    "\n",
    "driver = 'SQL Server'\n",
    "server = 'LAPTOP-6D8J0VI4\\SQLEXPRESS'\n",
    "database = 'github_DB'\n",
    "\n",
    "conn = pyodbc.connect(f'''\n",
    "                        DRIVER={driver};\n",
    "                        SERVER={server};\n",
    "                        DATABASE={database};\n",
    "                        Trusted_Connection=yes\n",
    "                       ''')\n",
    "cursor = conn.cursor()\n",
    "conn"
   ]
  },
  {
   "cell_type": "code",
   "execution_count": null,
   "metadata": {},
   "outputs": [],
   "source": [
    "cursor.execute('''\n",
    "               \n",
    "CREATE TABLE [Languages] (\n",
    "  [Id] INT IDENTITY(0,1),\n",
    "  [name] VARCHAR(255),\n",
    "  PRIMARY KEY ([Id])\n",
    ");\n",
    "\n",
    "CREATE TABLE [Owner] (\n",
    "  [Id] INT IDENTITY(0,1),\n",
    "  [name] VARCHAR(255),\n",
    "  PRIMARY KEY ([Id])\n",
    ");\n",
    "\n",
    "CREATE TABLE [Repositorys] (\n",
    "  [Id] INT IDENTITY(0,1),\n",
    "  [name] VARCHAR(255),\n",
    "  [Url] VARCHAR(255),\n",
    "  [description] NVARCHAR(max),\n",
    "  [forks] INT,\n",
    "  [stars] INT,\n",
    "  [created_at] DATE,\n",
    "  [open_issues] INT,\n",
    "  [contributors_count] INT,\n",
    "  [language_id] INT,\n",
    "  [owner_id] INT,\n",
    "  PRIMARY KEY ([Id]),\n",
    "  CONSTRAINT [FK_Repositorys_language_id]\n",
    "    FOREIGN KEY ([language_id])\n",
    "    REFERENCES [Languages]([Id]),\n",
    "  CONSTRAINT [FK_Repositorys_owner_id]\n",
    "    FOREIGN KEY ([owner_id])\n",
    "    REFERENCES [Owner]([Id])\n",
    ");\n",
    "\n",
    "\n",
    "CREATE TABLE [Contributors] (\n",
    "  [Id] INT IDENTITY(0,1),\n",
    "  [name] VARCHAR(255),\n",
    "  [number_commit] INT\n",
    "  PRIMARY KEY ([Id])\n",
    ");\n",
    "\n",
    "CREATE TABLE [Contributor_bridge] (\n",
    "  [Id_repo] INT,\n",
    "  [Id_contributor] INT\n",
    ");\n",
    "\n",
    "-- Add Constraints\n",
    "\n",
    "ALTER TABLE [Contributor_bridge]\n",
    "ADD CONSTRAINT [FK_Contributor_bridge_Id_repo]\n",
    "  FOREIGN KEY ([Id_repo])\n",
    "  REFERENCES [Repositorys]([Id]);\n",
    "\n",
    "ALTER TABLE [Contributor_bridge]\n",
    "ADD CONSTRAINT [FK_Contributor_bridge_Id_contributor]\n",
    "  FOREIGN KEY ([Id_contributor])\n",
    "  REFERENCES [Contributors]([Id]);\n",
    "        ''')\n",
    "\n",
    "cursor.commit()"
   ]
  },
  {
   "cell_type": "code",
   "execution_count": null,
   "metadata": {},
   "outputs": [],
   "source": [
    "tables = cursor.tables(tableType='TABLE')\n",
    "\n",
    "for table_info in tables:\n",
    "    table_name = table_info.table_name\n",
    "    print(table_name)"
   ]
  },
  {
   "cell_type": "markdown",
   "metadata": {},
   "source": [
    "#### Insert Into language Table :"
   ]
  },
  {
   "cell_type": "code",
   "execution_count": null,
   "metadata": {},
   "outputs": [],
   "source": [
    "uique_Language  = list(df['language'].unique())\n",
    "\n",
    "for languge in uique_Language :\n",
    "    cursor.execute('INSERT INTO Languages(name) VALUES (?)',languge)\n",
    "\n",
    "cursor.commit()"
   ]
  },
  {
   "cell_type": "code",
   "execution_count": null,
   "metadata": {},
   "outputs": [],
   "source": [
    "len(uique_Language)"
   ]
  },
  {
   "cell_type": "markdown",
   "metadata": {},
   "source": [
    "#### Insert Into owner Table :"
   ]
  },
  {
   "cell_type": "code",
   "execution_count": null,
   "metadata": {},
   "outputs": [],
   "source": [
    "owners  = list(df['owner'].unique())\n",
    "\n",
    "for owner in owners :\n",
    "    cursor.execute('INSERT INTO Owner(name) VALUES (?)',owner)\n",
    "\n",
    "cursor.commit()"
   ]
  },
  {
   "cell_type": "markdown",
   "metadata": {},
   "source": [
    "#### Insert Into Contributor Table :"
   ]
  },
  {
   "cell_type": "code",
   "execution_count": null,
   "metadata": {},
   "outputs": [],
   "source": [
    "list_contributions_count = list(df['contributions_count'])\n",
    "list_contributions = list(df['contributors'])\n",
    "\n",
    "list_contributions = [element for sublist in list_contributions for element in sublist]\n",
    "list_contributions_count = [element for sublist in list_contributions_count for element in sublist]\n",
    "\n",
    "# Create a dictionary from the lists :\n",
    "data = {'Contributor': list_contributions, 'Contribution_Count': list_contributions_count}\n",
    "\n",
    "# Create a DataFrame from the dictionary :\n",
    "Conterbuter_df = pd.DataFrame(data)\n",
    "Conterbuter_df = Conterbuter_df.drop_duplicates()\n",
    "Conterbuter_df.duplicated().sum()\n"
   ]
  },
  {
   "cell_type": "code",
   "execution_count": null,
   "metadata": {},
   "outputs": [],
   "source": [
    "Conterbuter_df"
   ]
  },
  {
   "cell_type": "code",
   "execution_count": null,
   "metadata": {},
   "outputs": [],
   "source": [
    "for index, row in Conterbuter_df.iterrows() :\n",
    "    cursor.execute('INSERT INTO Contributors(name,number_commit) VALUES (?,?)',row['Contributor'],row['Contribution_Count'])\n",
    "\n",
    "cursor.commit()"
   ]
  },
  {
   "cell_type": "markdown",
   "metadata": {},
   "source": [
    "#### Insert Into Repos Table :"
   ]
  },
  {
   "cell_type": "code",
   "execution_count": null,
   "metadata": {},
   "outputs": [],
   "source": [
    "for index, row in df.iterrows() :\n",
    "\n",
    "    cursor.execute(f\"SELECT id FROM Owner WHERE name = '{row['owner']}'\")\n",
    "    owner_id = cursor.fetchone()[0]\n",
    "\n",
    "    cursor.execute(f\"SELECT id FROM Languages WHERE name = '{row['language']}'\")\n",
    "    language_id = cursor.fetchone()[0]\n",
    "    \n",
    "    cursor.execute('''INSERT INTO Repositorys(name,Url,description,forks,stars,created_at,open_issues,contributors_count,language_id,owner_id)\n",
    "                    VALUES (?,?,?,?,?,?,?,?,?,?)''',\n",
    "    row['name'],\n",
    "    row['url'],\n",
    "    str(row['description']),\n",
    "    row['forks'],\n",
    "    row['stars'],\n",
    "    row['created_at'],\n",
    "    row['open_issues'],\n",
    "    row['contributors_count'],\n",
    "    language_id, \n",
    "    owner_id\n",
    "    )\n",
    "\n",
    "cursor.commit()"
   ]
  },
  {
   "cell_type": "markdown",
   "metadata": {},
   "source": [
    "#### insert into bridg :"
   ]
  },
  {
   "cell_type": "code",
   "execution_count": null,
   "metadata": {},
   "outputs": [],
   "source": [
    "df.head(1)"
   ]
  },
  {
   "cell_type": "code",
   "execution_count": null,
   "metadata": {},
   "outputs": [],
   "source": [
    "Conterbuter_df_list = list(Conterbuter_df['Contributor'])\n",
    "\n",
    "for index, row in df.iterrows() :\n",
    "\n",
    "    for contr in row['contributors'] :\n",
    "        Contributors_id = Conterbuter_df_list.index(contr)\n",
    "        print(index,'=> ',Contributors_id)\n",
    "        cursor.execute('INSERT INTO Contributor_bridge(Id_repo,Id_contributor) VALUES (?,?)',index,Contributors_id)\n",
    "cursor.commit()"
   ]
  },
  {
   "cell_type": "code",
   "execution_count": null,
   "metadata": {},
   "outputs": [],
   "source": [
    "conn.close()"
   ]
  }
 ],
 "metadata": {
  "kernelspec": {
   "display_name": "base",
   "language": "python",
   "name": "python3"
  },
  "language_info": {
   "codemirror_mode": {
    "name": "ipython",
    "version": 3
   },
   "file_extension": ".py",
   "mimetype": "text/x-python",
   "name": "python",
   "nbconvert_exporter": "python",
   "pygments_lexer": "ipython3",
   "version": "3.10.9"
  },
  "orig_nbformat": 4
 },
 "nbformat": 4,
 "nbformat_minor": 2
}
