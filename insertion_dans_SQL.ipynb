{
 "cells": [
  {
   "cell_type": "code",
   "execution_count": 27,
   "metadata": {},
   "outputs": [],
   "source": [
    "import pandas as pd\n",
    "import pyodbc "
   ]
  },
  {
   "cell_type": "code",
   "execution_count": 28,
   "metadata": {},
   "outputs": [],
   "source": [
    "df = pd.read_csv('Repo_in2023.csv')"
   ]
  },
  {
   "cell_type": "code",
   "execution_count": 29,
   "metadata": {},
   "outputs": [],
   "source": [
    "df['created_at'] = pd.to_datetime(df['created_at'])\n",
    "# Extract the date part from the datetime and convert back to string format :\n",
    "df['created_at'] = df['created_at'].dt.strftime('%Y-%m-%d')"
   ]
  },
  {
   "cell_type": "code",
   "execution_count": 30,
   "metadata": {},
   "outputs": [],
   "source": [
    "df['contributors']  = df['contributors'].apply(eval)\n",
    "df['contributions_count']  = df['contributions_count'].apply(eval)"
   ]
  },
  {
   "cell_type": "code",
   "execution_count": 31,
   "metadata": {},
   "outputs": [
    {
     "data": {
      "text/html": [
       "<div>\n",
       "<style scoped>\n",
       "    .dataframe tbody tr th:only-of-type {\n",
       "        vertical-align: middle;\n",
       "    }\n",
       "\n",
       "    .dataframe tbody tr th {\n",
       "        vertical-align: top;\n",
       "    }\n",
       "\n",
       "    .dataframe thead th {\n",
       "        text-align: right;\n",
       "    }\n",
       "</style>\n",
       "<table border=\"1\" class=\"dataframe\">\n",
       "  <thead>\n",
       "    <tr style=\"text-align: right;\">\n",
       "      <th></th>\n",
       "      <th>name</th>\n",
       "      <th>url</th>\n",
       "      <th>description</th>\n",
       "      <th>stars</th>\n",
       "      <th>created_at</th>\n",
       "      <th>language</th>\n",
       "      <th>forks</th>\n",
       "      <th>open_issues</th>\n",
       "      <th>owner</th>\n",
       "      <th>contributors_count</th>\n",
       "      <th>contributors</th>\n",
       "      <th>contributions_count</th>\n",
       "    </tr>\n",
       "  </thead>\n",
       "  <tbody>\n",
       "    <tr>\n",
       "      <th>0</th>\n",
       "      <td>learn-javascript</td>\n",
       "      <td>https://github.com/sumn2u/learn-javascript</td>\n",
       "      <td>A book that teaches JavaScript</td>\n",
       "      <td>635</td>\n",
       "      <td>2023-01-01</td>\n",
       "      <td>HTML</td>\n",
       "      <td>32</td>\n",
       "      <td>1</td>\n",
       "      <td>sumn2u</td>\n",
       "      <td>6</td>\n",
       "      <td>[gnwx, sumn2u, Anuj-Khadka, sahilxkhadka, hema...</td>\n",
       "      <td>[83, 64, 2, 2, 1, 1]</td>\n",
       "    </tr>\n",
       "  </tbody>\n",
       "</table>\n",
       "</div>"
      ],
      "text/plain": [
       "               name                                         url  \\\n",
       "0  learn-javascript  https://github.com/sumn2u/learn-javascript   \n",
       "\n",
       "                      description  stars  created_at language  forks  \\\n",
       "0  A book that teaches JavaScript    635  2023-01-01     HTML     32   \n",
       "\n",
       "   open_issues   owner  contributors_count  \\\n",
       "0            1  sumn2u                   6   \n",
       "\n",
       "                                        contributors   contributions_count  \n",
       "0  [gnwx, sumn2u, Anuj-Khadka, sahilxkhadka, hema...  [83, 64, 2, 2, 1, 1]  "
      ]
     },
     "execution_count": 31,
     "metadata": {},
     "output_type": "execute_result"
    }
   ],
   "source": [
    "df.head(1)"
   ]
  },
  {
   "cell_type": "markdown",
   "metadata": {},
   "source": [
    "#### Create Conection avec la base de donnee :"
   ]
  },
  {
   "cell_type": "code",
   "execution_count": 32,
   "metadata": {},
   "outputs": [
    {
     "data": {
      "text/plain": [
       "<pyodbc.Connection at 0x22b4e952b40>"
      ]
     },
     "execution_count": 32,
     "metadata": {},
     "output_type": "execute_result"
    }
   ],
   "source": [
    "# Créer un connexion dans le database :\n",
    "\n",
    "driver = 'SQL Server'\n",
    "server = 'LAPTOP-6D8J0VI4\\SQLEXPRESS'\n",
    "database = 'github_DB'\n",
    "\n",
    "conn = pyodbc.connect(f'''\n",
    "                        DRIVER={driver};\n",
    "                        SERVER={server};\n",
    "                        DATABASE={database};\n",
    "                        Trusted_Connection=yes\n",
    "                       ''')\n",
    "cursor = conn.cursor()\n",
    "conn"
   ]
  },
  {
   "cell_type": "code",
   "execution_count": null,
   "metadata": {},
   "outputs": [],
   "source": [
    "cursor.execute('''\n",
    "               \n",
    "CREATE TABLE [Languages] (\n",
    "  [Id] INT IDENTITY(0,1),\n",
    "  [name] VARCHAR(255),\n",
    "  PRIMARY KEY ([Id])\n",
    ");\n",
    "\n",
    "CREATE TABLE [Owner] (\n",
    "  [Id] INT IDENTITY(0,1),\n",
    "  [name] VARCHAR(255),\n",
    "  PRIMARY KEY ([Id])\n",
    ");\n",
    "\n",
    "CREATE TABLE [Repositorys] (\n",
    "  [Id] INT IDENTITY(0,1),\n",
    "  [Url] VARCHAR(255),\n",
    "  [description] VARCHAR(max),\n",
    "  [forks] INT,\n",
    "  [created_at] DATE,\n",
    "  [open_issues] INT,\n",
    "  [contributors_count] INT,\n",
    "  [language_id] INT,\n",
    "  [owner_id] INT,\n",
    "  PRIMARY KEY ([Id]),\n",
    "  CONSTRAINT [FK_Repositorys_language_id]\n",
    "    FOREIGN KEY ([language_id])\n",
    "    REFERENCES [Languages]([Id]),\n",
    "  CONSTRAINT [FK_Repositorys_owner_id]\n",
    "    FOREIGN KEY ([owner_id])\n",
    "    REFERENCES [Owner]([Id])\n",
    ");\n",
    "\n",
    "\n",
    "CREATE TABLE [Contributors] (\n",
    "  [Id] INT IDENTITY(0,1),\n",
    "  [name] VARCHAR(255),\n",
    "  [number_commit] INT\n",
    "  PRIMARY KEY ([Id])\n",
    ");\n",
    "\n",
    "CREATE TABLE [Contributor_bridge] (\n",
    "  [Id_repo] INT,\n",
    "  [Id_contributor] INT\n",
    ");\n",
    "\n",
    "-- Add Constraints\n",
    "\n",
    "ALTER TABLE [Contributor_bridge]\n",
    "ADD CONSTRAINT [FK_Contributor_bridge_Id_repo]\n",
    "  FOREIGN KEY ([Id_repo])\n",
    "  REFERENCES [Repositorys]([Id]);\n",
    "\n",
    "ALTER TABLE [Contributor_bridge]\n",
    "ADD CONSTRAINT [FK_Contributor_bridge_Id_contributor]\n",
    "  FOREIGN KEY ([Id_contributor])\n",
    "  REFERENCES [Contributors]([Id]);\n",
    "        ''')\n",
    "\n",
    "cursor.commit()"
   ]
  },
  {
   "cell_type": "code",
   "execution_count": 7,
   "metadata": {},
   "outputs": [
    {
     "name": "stdout",
     "output_type": "stream",
     "text": [
      "Contributor_bridge\n",
      "Contributors\n",
      "Languages\n",
      "Owner\n",
      "Repositorys\n",
      "trace_xe_action_map\n",
      "trace_xe_event_map\n"
     ]
    }
   ],
   "source": [
    "tables = cursor.tables(tableType='TABLE')\n",
    "\n",
    "for table_info in tables:\n",
    "    table_name = table_info.table_name\n",
    "    print(table_name)"
   ]
  },
  {
   "cell_type": "markdown",
   "metadata": {},
   "source": [
    "#### Insert Into language Table :"
   ]
  },
  {
   "cell_type": "code",
   "execution_count": 8,
   "metadata": {},
   "outputs": [],
   "source": [
    "uique_Language  = list(df['language'].unique())\n",
    "\n",
    "for languge in uique_Language :\n",
    "    cursor.execute('INSERT INTO Languages(name) VALUES (?)',languge)\n",
    "\n",
    "cursor.commit()"
   ]
  },
  {
   "cell_type": "code",
   "execution_count": 12,
   "metadata": {},
   "outputs": [
    {
     "data": {
      "text/plain": [
       "146"
      ]
     },
     "execution_count": 12,
     "metadata": {},
     "output_type": "execute_result"
    }
   ],
   "source": [
    "len(uique_Language)"
   ]
  },
  {
   "cell_type": "markdown",
   "metadata": {},
   "source": [
    "#### Insert Into owner Table :"
   ]
  },
  {
   "cell_type": "code",
   "execution_count": 9,
   "metadata": {},
   "outputs": [],
   "source": [
    "owners  = list(df['owner'].unique())\n",
    "\n",
    "for owner in owners :\n",
    "    cursor.execute('INSERT INTO Owner(name) VALUES (?)',owner)\n",
    "\n",
    "cursor.commit()"
   ]
  },
  {
   "cell_type": "markdown",
   "metadata": {},
   "source": [
    "#### Insert Into Contributor Table :"
   ]
  },
  {
   "cell_type": "code",
   "execution_count": 10,
   "metadata": {},
   "outputs": [
    {
     "data": {
      "text/plain": [
       "0"
      ]
     },
     "execution_count": 10,
     "metadata": {},
     "output_type": "execute_result"
    }
   ],
   "source": [
    "list_contributions_count = list(df['contributions_count'])\n",
    "list_contributions = list(df['contributors'])\n",
    "\n",
    "list_contributions = [element for sublist in list_contributions for element in sublist]\n",
    "list_contributions_count = [element for sublist in list_contributions_count for element in sublist]\n",
    "\n",
    "# Create a dictionary from the lists :\n",
    "data = {'Contributor': list_contributions, 'Contribution_Count': list_contributions_count}\n",
    "\n",
    "# Create a DataFrame from the dictionary :\n",
    "Conterbuter_df = pd.DataFrame(data)\n",
    "Conterbuter_df = Conterbuter_df.drop_duplicates()\n",
    "Conterbuter_df.duplicated().sum()\n"
   ]
  },
  {
   "cell_type": "code",
   "execution_count": 11,
   "metadata": {},
   "outputs": [],
   "source": [
    "for index, row in Conterbuter_df.iterrows() :\n",
    "    cursor.execute('INSERT INTO Contributors(name,number_commit) VALUES (?,?)',row['Contributor'],row['Contribution_Count'])\n",
    "\n",
    "cursor.commit()"
   ]
  },
  {
   "cell_type": "markdown",
   "metadata": {},
   "source": [
    "#### Insert Into Repos Table :"
   ]
  },
  {
   "cell_type": "code",
   "execution_count": null,
   "metadata": {},
   "outputs": [],
   "source": [
    "for index, row in df.iterrows() :\n",
    "\n",
    "    cursor.execute(f\"SELECT id FROM Owner WHERE name = '{row['owner']}'\")\n",
    "    owner_id = cursor.fetchone()[0]\n",
    "\n",
    "    cursor.execute(f\"SELECT id FROM Languages WHERE name = '{row['language']}'\")\n",
    "    language_id = cursor.fetchone()[0]\n",
    "    \n",
    "    cursor.execute('INSERT INTO Repositorys(Url,description,forks,created_at,open_issues,contributors_count,language_id,owner_id) VALUES (?,?,?,?,?,?,?,?)',\n",
    "    row['url'],\n",
    "    str(row['description']),\n",
    "    row['forks'],\n",
    "    row['created_at'],\n",
    "    row['open_issues'],\n",
    "    row['contributors_count'],\n",
    "    language_id, \n",
    "    owner_id\n",
    "    )\n",
    "\n",
    "cursor.commit()"
   ]
  },
  {
   "cell_type": "markdown",
   "metadata": {},
   "source": [
    "#### insert into bridg :"
   ]
  },
  {
   "cell_type": "code",
   "execution_count": 16,
   "metadata": {},
   "outputs": [
    {
     "data": {
      "text/html": [
       "<div>\n",
       "<style scoped>\n",
       "    .dataframe tbody tr th:only-of-type {\n",
       "        vertical-align: middle;\n",
       "    }\n",
       "\n",
       "    .dataframe tbody tr th {\n",
       "        vertical-align: top;\n",
       "    }\n",
       "\n",
       "    .dataframe thead th {\n",
       "        text-align: right;\n",
       "    }\n",
       "</style>\n",
       "<table border=\"1\" class=\"dataframe\">\n",
       "  <thead>\n",
       "    <tr style=\"text-align: right;\">\n",
       "      <th></th>\n",
       "      <th>name</th>\n",
       "      <th>url</th>\n",
       "      <th>description</th>\n",
       "      <th>stars</th>\n",
       "      <th>created_at</th>\n",
       "      <th>language</th>\n",
       "      <th>forks</th>\n",
       "      <th>open_issues</th>\n",
       "      <th>owner</th>\n",
       "      <th>contributors_count</th>\n",
       "      <th>contributors</th>\n",
       "      <th>contributions_count</th>\n",
       "    </tr>\n",
       "  </thead>\n",
       "  <tbody>\n",
       "    <tr>\n",
       "      <th>0</th>\n",
       "      <td>learn-javascript</td>\n",
       "      <td>https://github.com/sumn2u/learn-javascript</td>\n",
       "      <td>A book that teaches JavaScript</td>\n",
       "      <td>635</td>\n",
       "      <td>2023-01-01</td>\n",
       "      <td>HTML</td>\n",
       "      <td>32</td>\n",
       "      <td>1</td>\n",
       "      <td>sumn2u</td>\n",
       "      <td>6</td>\n",
       "      <td>[gnwx, sumn2u, Anuj-Khadka, sahilxkhadka, hema...</td>\n",
       "      <td>[83, 64, 2, 2, 1, 1]</td>\n",
       "    </tr>\n",
       "  </tbody>\n",
       "</table>\n",
       "</div>"
      ],
      "text/plain": [
       "               name                                         url  \\\n",
       "0  learn-javascript  https://github.com/sumn2u/learn-javascript   \n",
       "\n",
       "                      description  stars  created_at language  forks  \\\n",
       "0  A book that teaches JavaScript    635  2023-01-01     HTML     32   \n",
       "\n",
       "   open_issues   owner  contributors_count  \\\n",
       "0            1  sumn2u                   6   \n",
       "\n",
       "                                        contributors   contributions_count  \n",
       "0  [gnwx, sumn2u, Anuj-Khadka, sahilxkhadka, hema...  [83, 64, 2, 2, 1, 1]  "
      ]
     },
     "execution_count": 16,
     "metadata": {},
     "output_type": "execute_result"
    }
   ],
   "source": [
    "df.head(1)"
   ]
  },
  {
   "cell_type": "code",
   "execution_count": null,
   "metadata": {},
   "outputs": [],
   "source": [
    "for index, row in df.iterrows() :\n",
    "    url = row['url']\n",
    "    contributors = row['contributors']\n",
    "\n",
    "    cursor.execute(f\"SELECT id FROM Repositorys WHERE Url = '{url}'\")\n",
    "    Repositorys_id = cursor.fetchone()[0]\n",
    "\n",
    "    for i in range(0,len(contributors)) :\n",
    "        cursor.execute(f\"SELECT id FROM Contributors WHERE name = '{contributors[i]}'\")\n",
    "        Contributors_id = cursor.fetchone()[0]\n",
    "        print(Repositorys_id,'=>',Contributors_id)\n",
    "        cursor.execute('INSERT INTO Contributor_bridge(Id_repo,Id_contributor) VALUES (?,?)',Repositorys_id,Contributors_id)\n",
    "\n",
    "cursor.commit()"
   ]
  },
  {
   "cell_type": "code",
   "execution_count": 39,
   "metadata": {},
   "outputs": [],
   "source": [
    "conn.close()"
   ]
  }
 ],
 "metadata": {
  "kernelspec": {
   "display_name": "base",
   "language": "python",
   "name": "python3"
  },
  "language_info": {
   "codemirror_mode": {
    "name": "ipython",
    "version": 3
   },
   "file_extension": ".py",
   "mimetype": "text/x-python",
   "name": "python",
   "nbconvert_exporter": "python",
   "pygments_lexer": "ipython3",
   "version": "3.10.9"
  },
  "orig_nbformat": 4
 },
 "nbformat": 4,
 "nbformat_minor": 2
}
